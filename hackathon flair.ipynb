{
 "cells": [
  {
   "cell_type": "code",
   "execution_count": 1,
   "metadata": {},
   "outputs": [
    {
     "name": "stderr",
     "output_type": "stream",
     "text": [
      "unable to import 'smart_open.gcs', disabling that module\n",
      "I0411 13:52:47.962836 4615538112 file_utils.py:38] PyTorch version 1.2.0 available.\n"
     ]
    }
   ],
   "source": [
    "import flair\n",
    "from flair.data import Sentence, Token\n",
    "from flair.models import TextClassifier"
   ]
  },
  {
   "cell_type": "code",
   "execution_count": 2,
   "metadata": {},
   "outputs": [],
   "source": [
    "import string\n",
    "import nltk\n",
    "from segtok.segmenter import split_single"
   ]
  },
  {
   "cell_type": "code",
   "execution_count": 3,
   "metadata": {},
   "outputs": [
    {
     "name": "stdout",
     "output_type": "stream",
     "text": [
      "2020-04-11 13:52:51,807 loading file /Users/daniel/.flair/models/imdb-v0.4.pt\n"
     ]
    }
   ],
   "source": [
    "clf = TextClassifier.load('en-sentiment')"
   ]
  },
  {
   "cell_type": "code",
   "execution_count": 4,
   "metadata": {},
   "outputs": [],
   "source": [
    "import newspaper\n",
    "from newspaper import Article"
   ]
  },
  {
   "cell_type": "code",
   "execution_count": 126,
   "metadata": {},
   "outputs": [],
   "source": [
    "import re\n",
    "def preprocess(text):\n",
    "    paragraphs = text.split(\"\\n\\n\")\n",
    "    topic_sentences = [para.split(\".\")[0] + \"\" for para in paragraphs]\n",
    "    for i in range(len(topic_sentences)):\n",
    "        topic_sentences[i] += \".\"\n",
    "    x = \" \".join(topic_sentences).translate(str.maketrans('', '', string.punctuation.replace(\".\",\"\").replace(\"-\",\"\"))).replace(\"\\n\",\" \")\n",
    "    x = re.sub(' +', ' ',x)\n",
    "    return x\n",
    "\n"
   ]
  },
  {
   "cell_type": "code",
   "execution_count": 127,
   "metadata": {},
   "outputs": [],
   "source": [
    "def parse(url):\n",
    "    article = Article(url)\n",
    "    article.download()\n",
    "    article.parse()\n",
    "    t = article.text\n",
    "    return preprocess(t)"
   ]
  },
  {
   "cell_type": "code",
   "execution_count": 128,
   "metadata": {},
   "outputs": [],
   "source": [
    "def makeSentences(text):\n",
    "    l = [Sentence(sent, use_tokenizer=True) for sent in split_single(text)]\n",
    "        \n",
    "    return l"
   ]
  },
  {
   "cell_type": "code",
   "execution_count": 129,
   "metadata": {},
   "outputs": [],
   "source": [
    "def predict(url):\n",
    "    text = parse(url)\n",
    "    t = makeSentences(text)\n",
    "   \n",
    "    clf.predict(t)\n",
    "    sent_t = getSentiment(t)\n",
    "    prediction = \"Positive\"\n",
    "    if sent_t < 0 or abs(sent_t) > 0.99:\n",
    "        prediction = \"Negative\"\n",
    "        \n",
    "\n",
    "    return {\"Prediction\":prediction, \"Confidence\":abs(sent_t)}"
   ]
  },
  {
   "cell_type": "code",
   "execution_count": 130,
   "metadata": {},
   "outputs": [],
   "source": [
    "def getSentiment(l):\n",
    "    sent = 0\n",
    "    for sentence in l:\n",
    "        c = 1\n",
    "        if sentence.labels[0].value == \"NEGATIVE\":\n",
    "            c=-1\n",
    "        sent += c*(sentence.labels[0].score)\n",
    "        print(sent)\n",
    "    sent /= len(l)\n",
    "    return sent"
   ]
  },
  {
   "cell_type": "code",
   "execution_count": 132,
   "metadata": {},
   "outputs": [
    {
     "name": "stdout",
     "output_type": "stream",
     "text": [
      "0.9904229640960693\n",
      "1.9679632186889648\n",
      "1.3023077249526978\n",
      "0.7526811361312866\n",
      "1.5211848020553589\n",
      "2.5051737427711487\n",
      "1.6135274767875671\n",
      "2.611264407634735\n",
      "3.5944784283638\n",
      "2.6998303532600403\n",
      "2.0772730708122253\n",
      "2.8577151894569397\n",
      "3.846400022506714\n",
      "4.8448455929756165\n",
      "3.88261741399765\n",
      "2.8892027735710144\n",
      "2.138466954231262\n",
      "3.1003625988960266\n"
     ]
    },
    {
     "data": {
      "text/plain": [
       "{'Prediction': 'Positive', 'Confidence': 0.17224236660533482}"
      ]
     },
     "execution_count": 132,
     "metadata": {},
     "output_type": "execute_result"
    }
   ],
   "source": [
    "url = 'https://www.reuters.com/article/us-health-coronavirus-spain/spains-overnight-coronavirus-death-toll-at-510-lowest-in-19-days-idUSKCN21T0DJ?il=0'\n",
    "predict(url)"
   ]
  },
  {
   "cell_type": "code",
   "execution_count": 114,
   "metadata": {},
   "outputs": [
    {
     "name": "stdout",
     "output_type": "stream",
     "text": [
      "['Archie Wilks, four, defeated the virus after being hospitalised for six days in a ‘Covid-19 man-cave’ (Picture: PA).', 'A four-year-old with cancer has ‘come out the other side’ after defeating coronavirus, his delighted parents have said.', 'Archie Wilks caught Covid-19 during treatment for a rare childhood cancer neuroblastoma, Mum Harriet and Dad Simon said, explaining that they did all they could to protect their son in the early stages of the outbreak.', 'His identical twin brother Henry was taken out of school early and the family self-isolated at home in Saffron Walden, Essex, for more than two weeks as a precaution.', 'But, Mr Wilks explained: ‘We only had a community nurse visit a couple of times and some trips to the day unit where we kept away from whoever we possibly could and stayed outside.', 'Coronavirus met its match in big Spurs fan Archie (Picture: PA).', 'Archie, from Saffron Walden in Essex, needs his strength to battle neuroblastoma (Picture: PA).', 'He developed a fever at the day unit at Addenbrooke’s Hospital in Cambridge after starting a course of chemotherapy and immunotherapy and was quickly moved to a coronavirus ward where he was diagnosed.', 'Advertisement.', 'Advertisement.', 'Mr Wilks said Tottenham Hotspur fan Archie often gets flu-like symptoms due to his treatment so until he developed a fever, they put his cough and tiredness down to that.', 'For all the latest news and updates on Coronavirus, click here.', 'For our Coronavirus live blog click here.', 'He continued: ‘It was scary to be moved into the coronavirus ward as we had no real information about how a child in his position might cope with the virus.', 'Archie and his father spent six days in a hospital room, which Mr Wilks dubbed the Covid-19 ‘man-cave’, with nurses and doctors wearing ‘the full gear’ when they entered.', 'He praised staff who ‘made me feel at ease in what could be a worrying situation to most parents’.', 'The family – who have all had symptoms – were reunited on April 1 when doctors said Archie was well enough to be safer in isolation at home.', 'Archie (left) with his parents Simon and Harriet and identical twin brother Henry (Picture: PA).', 'Archie is ‘out the other side’ and recovering well (Picture: PA).', 'Their relief follows a number of similarly positive stories emerging from the national crisis, including the ‘miracle’ recovery of a great-grandmother, 99, who turned 100 yesterday but has since been tipped to the title of UK’s oldest Covid-19 survivor, after Keith Watson, 101.', 'Archie had to wait 48 hours for his results but Addenbrooke’s has now started using portable Samba II machines, developed by a University of Cambridge spin-off company Diagnostics For The Real World, which can diagnose Covid-19 in less than 90 minutes.', 'Advertisement.', 'Advertisement.', '‘It’s great they have the quicker test in place now as that would have settled everyone’s minds a lot faster, rather than waiting two days,’ said Mr Wilks, a manager for motor insurance company HIC in Bishop’s Stortford, Hertfordshire.', 'He added: ‘It’s obviously a great thing for the NHS staff to have results for themselves sooner as well if they think they have symptoms.', '99-year-old former Womenâ\\x80\\x99s Air Force driver and great-gran Rita will celebrate her 100th birthday this July, after becoming the oldest person to recover from #coronavirus in the UK! ð\\x9f\\x92\\x99ð\\x9f\\x91\\x8f#ThankYouNHS #ThankYouThursday https://t.', 'At the other end of the spectrum, experts say children are less at risk.', 'Archie was tired and needed oxygen overnight for a few days but on Thursday his family told supporters on the Archie’s Journey Facebook page: ‘Archie’s definitely out the other side of the virus with no cough and no need for oxygen.', 'The youngster was diagnosed with neuroblastoma in January 2019 after becoming ill and unable to stand a few weeks earlier.', 'Two tumours were found around his kidney and spine and the disease had spread to other areas, including his bones and bone marrow.', 'Dad Simon hopes his son’s story can be a beacon of hope for other parents (Picture: PA).', 'More than £180,000 has already been raised for Archie to be part of a vaccine trial (Picture: PA).', 'While Mr Wilks, 31, and his wife, 30 – an auditor for the same insurance firm – care for their twins, others are donating and raising money to enable Archie to take part in a vaccine trial in the US which could reduce the chance of the cancer returning once Archie is in remission.', 'Advertisement.', 'Mr Wilks said 50% of children successfully treated for neuroblastoma will relapse.', 'The vaccine trial at Memorial Sloan Kettering Cancer Centre in New York ‘will look to reduce the chance of that happening and allow us all to know we have done everything possible to give Archie the best chance at life’, he added.', 'To donate, click here.', 'Get in touch with our news team by emailing us at webnews@metro.', 'For more stories like this, check our news page.']\n"
     ]
    },
    {
     "data": {
      "text/plain": [
       "'Archie Wilks four defeated the virus after being hospitalised for six days in a ‘Covid-19 man-cave’ Picture PA. A four-year-old with cancer has ‘come out the other side’ after defeating coronavirus his delighted parents have said. Archie Wilks caught Covid-19 during treatment for a rare childhood cancer neuroblastoma Mum Harriet and Dad Simon said explaining that they did all they could to protect their son in the early stages of the outbreak. His identical twin brother Henry was taken out of school early and the family self-isolated at home in Saffron Walden Essex for more than two weeks as a precaution. But Mr Wilks explained ‘We only had a community nurse visit a couple of times and some trips to the day unit where we kept away from whoever we possibly could and stayed outside. Coronavirus met its match in big Spurs fan Archie Picture PA. Archie from Saffron Walden in Essex needs his strength to battle neuroblastoma Picture PA. He developed a fever at the day unit at Addenbrooke’s Hospital in Cambridge after starting a course of chemotherapy and immunotherapy and was quickly moved to a coronavirus ward where he was diagnosed. Advertisement. Advertisement. Mr Wilks said Tottenham Hotspur fan Archie often gets flu-like symptoms due to his treatment so until he developed a fever they put his cough and tiredness down to that. For all the latest news and updates on Coronavirus click here. For our Coronavirus live blog click here. He continued ‘It was scary to be moved into the coronavirus ward as we had no real information about how a child in his position might cope with the virus. Archie and his father spent six days in a hospital room which Mr Wilks dubbed the Covid-19 ‘man-cave’ with nurses and doctors wearing ‘the full gear’ when they entered. He praised staff who ‘made me feel at ease in what could be a worrying situation to most parents’. The family – who have all had symptoms – were reunited on April 1 when doctors said Archie was well enough to be safer in isolation at home. Archie left with his parents Simon and Harriet and identical twin brother Henry Picture PA. Archie is ‘out the other side’ and recovering well Picture PA. Their relief follows a number of similarly positive stories emerging from the national crisis including the ‘miracle’ recovery of a great-grandmother 99 who turned 100 yesterday but has since been tipped to the title of UK’s oldest Covid-19 survivor after Keith Watson 101. Archie had to wait 48 hours for his results but Addenbrooke’s has now started using portable Samba II machines developed by a University of Cambridge spin-off company Diagnostics For The Real World which can diagnose Covid-19 in less than 90 minutes. Advertisement. Advertisement. ‘It’s great they have the quicker test in place now as that would have settled everyone’s minds a lot faster rather than waiting two days’ said Mr Wilks a manager for motor insurance company HIC in Bishop’s Stortford Hertfordshire. He added ‘It’s obviously a great thing for the NHS staff to have results for themselves sooner as well if they think they have symptoms. 99-year-old former Womenâ\\x80\\x99s Air Force driver and great-gran Rita will celebrate her 100th birthday this July after becoming the oldest person to recover from coronavirus in the UK ð\\x9f\\x92\\x99ð\\x9f\\x91\\x8fThankYouNHS ThankYouThursday httpst. At the other end of the spectrum experts say children are less at risk. Archie was tired and needed oxygen overnight for a few days but on Thursday his family told supporters on the Archie’s Journey Facebook page ‘Archie’s definitely out the other side of the virus with no cough and no need for oxygen. The youngster was diagnosed with neuroblastoma in January 2019 after becoming ill and unable to stand a few weeks earlier. Two tumours were found around his kidney and spine and the disease had spread to other areas including his bones and bone marrow. Dad Simon hopes his son’s story can be a beacon of hope for other parents Picture PA. More than £180000 has already been raised for Archie to be part of a vaccine trial Picture PA. While Mr Wilks 31 and his wife 30 – an auditor for the same insurance firm – care for their twins others are donating and raising money to enable Archie to take part in a vaccine trial in the US which could reduce the chance of the cancer returning once Archie is in remission. Advertisement. Mr Wilks said 50 of children successfully treated for neuroblastoma will relapse. The vaccine trial at Memorial Sloan Kettering Cancer Centre in New York ‘will look to reduce the chance of that happening and allow us all to know we have done everything possible to give Archie the best chance at life’ he added. To donate click here. Get in touch with our news team by emailing us at webnewsmetro. For more stories like this check our news page.'"
      ]
     },
     "execution_count": 114,
     "metadata": {},
     "output_type": "execute_result"
    }
   ],
   "source": [
    "parse(url)"
   ]
  },
  {
   "cell_type": "code",
   "execution_count": null,
   "metadata": {},
   "outputs": [],
   "source": []
  }
 ],
 "metadata": {
  "kernelspec": {
   "display_name": "Python 3",
   "language": "python",
   "name": "python3"
  },
  "language_info": {
   "codemirror_mode": {
    "name": "ipython",
    "version": 3
   },
   "file_extension": ".py",
   "mimetype": "text/x-python",
   "name": "python",
   "nbconvert_exporter": "python",
   "pygments_lexer": "ipython3",
   "version": "3.7.3"
  }
 },
 "nbformat": 4,
 "nbformat_minor": 2
}
